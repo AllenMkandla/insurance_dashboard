{
 "cells": [
  {
   "cell_type": "code",
   "execution_count": null,
   "metadata": {},
   "outputs": [],
   "source": [
    "import pandas as pd\n",
    "import plotly \n",
    "import numpy as np\n",
    "import plotly.graph_objs as go\n",
    "import dash\n",
    "import dash_core_components as dcc\n",
    "import dash_html_components as html\n",
    "\n",
    "import plotly.offline as pyo"
   ]
  },
  {
   "cell_type": "code",
   "execution_count": null,
   "metadata": {},
   "outputs": [],
   "source": [
    "df = pd.read_csv(\"insurance.csv\")\n",
    "df.info()\n"
   ]
  },
  {
   "cell_type": "code",
   "execution_count": null,
   "metadata": {},
   "outputs": [],
   "source": [
    "app = dash.Dash()"
   ]
  },
  {
   "cell_type": "code",
   "execution_count": null,
   "metadata": {},
   "outputs": [],
   "source": [
    "app.layout = html.Div([dcc.Graph(id= \"box_plot_age\",\n",
    "                                  figure = {\n",
    "                                     'data':[go.Box(y= df.age, boxpoints= \"all\",jitter= 0.3, pointpos= 0)],\n",
    "                                      \"layout\": go.Layout(title = \"A look at the distribution of AGE\",\n",
    "                                  yaxis = dict(title='Age'),\n",
    "                                  hovermode = \"closest\")}\n",
    "                                 ),\n",
    "                # scatterplots        \n",
    "                html.Div([dcc.Graph(id= \"scatter_age_and_charges\",\n",
    "                    figure = {'data':[\n",
    "                        go.Scatter(x= df.age, y = df.charges, mode= 'markers')],\n",
    "                        \"layout\":\n",
    "                            go.Layout(title = \"Corrrelation between Age and Charges\",\n",
    "                   xaxis = dict(title= \"Age\"),\n",
    "                   yaxis = dict(title='Charge'),\n",
    "                   hovermode = \"closest\")}),\n",
    "                \n",
    "                html.Div([dcc.Graph(id= \"Smoker Heatmap\",\n",
    "                    figure = {'data':[\n",
    "                        go.Heatmap(x=df[\"smoker\"], \n",
    "                   y=df[\"age\"], z = df[\"charges\"].values.tolist()),\n",
    "                        \"layout\":\n",
    "                            go.Layout(title = \"Corrrelation between Age and Charges\",\n",
    "                   xaxis = dict(title= \"Age\"),\n",
    "                   yaxis = dict(title='Charge'),\n",
    "                   hovermode = \"closest\")}),\n",
    "                \n",
    "                \n",
    "                \n",
    "                         ])\n",
    "\n",
    "                       \n",
    "                      ]\n",
    "\n",
    "              )\n",
    "\n",
    "\n",
    "\n",
    "if __name__ == '__main__':\n",
    "    app.run_server(port = '33553')"
   ]
  },
  {
   "cell_type": "code",
   "execution_count": null,
   "metadata": {},
   "outputs": [],
   "source": []
  },
  {
   "cell_type": "code",
   "execution_count": null,
   "metadata": {},
   "outputs": [],
   "source": []
  },
  {
   "cell_type": "code",
   "execution_count": null,
   "metadata": {},
   "outputs": [],
   "source": []
  }
 ],
 "metadata": {
  "kernelspec": {
   "display_name": "Python 3",
   "language": "python",
   "name": "python3"
  },
  "language_info": {
   "codemirror_mode": {
    "name": "ipython",
    "version": 3
   },
   "file_extension": ".py",
   "mimetype": "text/x-python",
   "name": "python",
   "nbconvert_exporter": "python",
   "pygments_lexer": "ipython3",
   "version": "3.7.4"
  }
 },
 "nbformat": 4,
 "nbformat_minor": 2
}
