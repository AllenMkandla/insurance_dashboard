{
 "cells": [
  {
   "cell_type": "code",
   "execution_count": 17,
   "metadata": {},
   "outputs": [],
   "source": [
    "import pandas as pd\n",
    "import plotly \n",
    "import numpy as np\n",
    "import plotly.graph_objs as go\n",
    "import dash\n",
    "import dash_core_components as dcc\n",
    "import dash_html_components as html\n",
    "\n",
    "import plotly.offline as pyo"
   ]
  },
  {
   "cell_type": "code",
   "execution_count": 18,
   "metadata": {},
   "outputs": [
    {
     "name": "stdout",
     "output_type": "stream",
     "text": [
      "<class 'pandas.core.frame.DataFrame'>\n",
      "RangeIndex: 1338 entries, 0 to 1337\n",
      "Data columns (total 7 columns):\n",
      "age         1338 non-null int64\n",
      "sex         1338 non-null object\n",
      "bmi         1338 non-null float64\n",
      "children    1338 non-null int64\n",
      "smoker      1338 non-null object\n",
      "region      1338 non-null object\n",
      "charges     1338 non-null float64\n",
      "dtypes: float64(2), int64(2), object(3)\n",
      "memory usage: 73.3+ KB\n"
     ]
    }
   ],
   "source": [
    "df = pd.read_csv(\"insurance.csv\")\n",
    "df.info()\n"
   ]
  },
  {
   "cell_type": "code",
   "execution_count": 19,
   "metadata": {},
   "outputs": [],
   "source": [
    "# app = dash.Dash()"
   ]
  },
  {
   "cell_type": "code",
   "execution_count": 40,
   "metadata": {},
   "outputs": [
    {
     "ename": "SyntaxError",
     "evalue": "unexpected EOF while parsing (<ipython-input-40-1622fd3e872a>, line 31)",
     "output_type": "error",
     "traceback": [
      "\u001b[0;36m  File \u001b[0;32m\"<ipython-input-40-1622fd3e872a>\"\u001b[0;36m, line \u001b[0;32m31\u001b[0m\n\u001b[0;31m    #     app.run_server()\u001b[0m\n\u001b[0m                          ^\u001b[0m\n\u001b[0;31mSyntaxError\u001b[0m\u001b[0;31m:\u001b[0m unexpected EOF while parsing\n"
     ]
    }
   ],
   "source": [
    "app = dash.Dash()\n",
    "app.layout = html.Div([dcc.Graph(id= \"box_plot_age\",\n",
    "                    figure = {'data':[\n",
    "                        go.Box(y= df.age, boxpoints= \"all\",jitter= 0.3, pointpos= 0)],\n",
    "                        \"layout\":\n",
    "                             go.Layout(title = \"A look at the distribution of AGE\",\n",
    "                   yaxis = dict(title='Age'),\n",
    "                   hovermode = \"closest\")})],\n",
    "\n",
    "\n",
    "\n",
    "\n",
    "            html.Div(dcc.Graph(id= \"scatter_age_and_charges\",\n",
    "                figure = {'data':[\n",
    "                    go.Scatter(x= df.age, y = df.charges, mode= 'markers')],\n",
    "                    \"layout\":\n",
    "                        go.Layout(title = \"Corrrelation between Age and Charges\",\n",
    "               xaxis = dict(title= \"Age\"),\n",
    "               yaxis = dict(title='Charge'),\n",
    "               hovermode = \"closest\")\n",
    "                          )\n",
    "                  \n",
    "# html.Div([dcc.Graph(id= \"scatter_age_and_charges\",\n",
    "#                     figure = {'data':[\n",
    "#                         go.Scatter(x= df.age, y = df.charges, mode= 'markers')],\n",
    "#                         \"layout\":\n",
    "#                             go.Layout(title = \"Corrrelation between Age and Charges\",\n",
    "#                    xaxis = dict(title= \"Age\"),\n",
    "#                    yaxis = dict(title='Charge'),\n",
    "#                    hovermode = \"closest\")})])\n",
    "# if __name__ == '__main__':\n",
    "#     app.run_server()"
   ]
  },
  {
   "cell_type": "code",
   "execution_count": null,
   "metadata": {},
   "outputs": [],
   "source": []
  },
  {
   "cell_type": "code",
   "execution_count": null,
   "metadata": {},
   "outputs": [],
   "source": []
  },
  {
   "cell_type": "code",
   "execution_count": null,
   "metadata": {},
   "outputs": [],
   "source": []
  }
 ],
 "metadata": {
  "kernelspec": {
   "display_name": "Python 3",
   "language": "python",
   "name": "python3"
  },
  "language_info": {
   "codemirror_mode": {
    "name": "ipython",
    "version": 3
   },
   "file_extension": ".py",
   "mimetype": "text/x-python",
   "name": "python",
   "nbconvert_exporter": "python",
   "pygments_lexer": "ipython3",
   "version": "3.7.4"
  }
 },
 "nbformat": 4,
 "nbformat_minor": 2
}
